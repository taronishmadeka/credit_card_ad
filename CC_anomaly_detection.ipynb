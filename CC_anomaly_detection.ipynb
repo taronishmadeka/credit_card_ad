{
 "cells": [
  {
   "cell_type": "code",
   "execution_count": 1,
   "metadata": {},
   "outputs": [
    {
     "name": "stderr",
     "output_type": "stream",
     "text": [
      "Using TensorFlow backend.\n"
     ]
    }
   ],
   "source": [
    "import numpy as np\n",
    "import pandas as pd\n",
    "import matplotlib.pyplot as plt\n",
    "import seaborn as sns\n",
    "from sklearn.ensemble import IsolationForest, RandomForestClassifier\n",
    "from sklearn.model_selection import train_test_split\n",
    "from pyod.models.auto_encoder import AutoEncoder\n",
    "from tensorflow import keras"
   ]
  },
  {
   "cell_type": "code",
   "execution_count": 2,
   "metadata": {},
   "outputs": [],
   "source": [
    "dataset = pd.read_csv('creditcard.csv')"
   ]
  },
  {
   "cell_type": "markdown",
   "metadata": {},
   "source": [
    "The dataset only contains numerical variables which have been provided to us post-PCA transformation. To maintain confidentiality, original features and data cannot be provided to us. Only two features have not been transformed via PCA. 'Time' is the amount of time that has elapsed between each transaction and the first transaction in the dataset. 'Amount' represents the transaction amount. \n",
    "\n",
    "Can an unsupervised algorithm (ie. isolation forest) detect the 492 fradulent transactions in the dataset? Labeled datasets are costly to produce ($, manpower, etc) and difficult to find. Let's see if an unsupervised algorithm can achieve similar results."
   ]
  },
  {
   "cell_type": "code",
   "execution_count": 3,
   "metadata": {},
   "outputs": [
    {
     "data": {
      "text/plain": [
       "Text(1.2, 100000, '492')"
      ]
     },
     "execution_count": 3,
     "metadata": {},
     "output_type": "execute_result"
    },
    {
     "data": {
      "image/png": "[encoded data removed]",
      "text/plain": [
       "<Figure size 432x288 with 1 Axes>"
      ]
     },
     "metadata": {
      "needs_background": "light"
     },
     "output_type": "display_data"
    }
   ],
   "source": [
    "bars = ('Normal', 'Fraudulent')\n",
    "y_pos = np.arange(2)\n",
    "\n",
    "sns.countplot('Class', data=dataset)\n",
    "plt.title('Class Distribution')\n",
    "plt.xticks(y_pos, bars, horizontalalignment='center')\n",
    "plt.annotate('492', xy=(1,5000), xytext=(1.2, 100000), arrowprops=dict(arrowstyle=\"->\"))"
   ]
  },
  {
   "cell_type": "code",
   "execution_count": 4,
   "metadata": {},
   "outputs": [
    {
     "name": "stdout",
     "output_type": "stream",
     "text": [
      "Normal: 99.827%\n",
      "Fradulent: 0.173%\n"
     ]
    }
   ],
   "source": [
    "print('Normal: {:.3f}%'.format(dataset['Class'].value_counts()[0]/len(dataset)*100))\n",
    "print('Fradulent: {:.3f}%'.format(dataset['Class'].value_counts()[1]/len(dataset)*100))"
   ]
  },
  {
   "cell_type": "markdown",
   "metadata": {},
   "source": [
    "## Creating our input vector (No feature engineering yet)"
   ]
  },
  {
   "cell_type": "code",
   "execution_count": 5,
   "metadata": {},
   "outputs": [],
   "source": [
    "x = []\n",
    "X = []\n",
    "i = 0\n",
    "while i < len(dataset):\n",
    "    x = []\n",
    "    x.append(dataset['V1'][i])\n",
    "    x.append(dataset['V2'][i])\n",
    "    x.append(dataset['V3'][i])\n",
    "    x.append(dataset['V4'][i])\n",
    "    x.append(dataset['V5'][i])\n",
    "    x.append(dataset['V6'][i])\n",
    "    x.append(dataset['V7'][i])\n",
    "    x.append(dataset['V8'][i])\n",
    "    x.append(dataset['V9'][i])\n",
    "    x.append(dataset['V10'][i])\n",
    "    x.append(dataset['V11'][i])\n",
    "    x.append(dataset['V12'][i])\n",
    "    x.append(dataset['V13'][i])\n",
    "    x.append(dataset['V14'][i])\n",
    "    x.append(dataset['V15'][i])\n",
    "    x.append(dataset['V16'][i])\n",
    "    x.append(dataset['V17'][i])\n",
    "    x.append(dataset['V18'][i])\n",
    "    x.append(dataset['V19'][i])\n",
    "    x.append(dataset['V20'][i])\n",
    "    x.append(dataset['V21'][i])\n",
    "    x.append(dataset['V22'][i])\n",
    "    x.append(dataset['V23'][i])\n",
    "    x.append(dataset['V24'][i])\n",
    "    x.append(dataset['V25'][i])\n",
    "    x.append(dataset['V26'][i])\n",
    "    x.append(dataset['V27'][i])\n",
    "    x.append(dataset['V28'][i])\n",
    "    x.append(dataset['Amount'][i])\n",
    "    X.append(x)\n",
    "    i += 1\n",
    "    \n",
    "y = dataset['Class']"
   ]
  },
  {
   "cell_type": "markdown",
   "metadata": {},
   "source": [
    "What does a single input vector look like?"
   ]
  },
  {
   "cell_type": "code",
   "execution_count": 6,
   "metadata": {},
   "outputs": [
    {
     "data": {
      "text/plain": [
       "[-1.3598071336738,\n",
       " -0.0727811733098497,\n",
       " 2.53634673796914,\n",
       " 1.37815522427443,\n",
       " -0.33832076994251803,\n",
       " 0.462387777762292,\n",
       " 0.239598554061257,\n",
       " 0.0986979012610507,\n",
       " 0.363786969611213,\n",
       " 0.0907941719789316,\n",
       " -0.551599533260813,\n",
       " -0.617800855762348,\n",
       " -0.991389847235408,\n",
       " -0.31116935369987897,\n",
       " 1.46817697209427,\n",
       " -0.47040052525947795,\n",
       " 0.20797124192924202,\n",
       " 0.0257905801985591,\n",
       " 0.403992960255733,\n",
       " 0.251412098239705,\n",
       " -0.018306777944153,\n",
       " 0.277837575558899,\n",
       " -0.110473910188767,\n",
       " 0.0669280749146731,\n",
       " 0.12853935827352803,\n",
       " -0.189114843888824,\n",
       " 0.13355837674038698,\n",
       " -0.0210530534538215,\n",
       " 149.62]"
      ]
     },
     "execution_count": 6,
     "metadata": {},
     "output_type": "execute_result"
    }
   ],
   "source": [
    "X[0]"
   ]
  },
  {
   "cell_type": "markdown",
   "metadata": {},
   "source": [
    "## Isolation Forest"
   ]
  },
  {
   "cell_type": "code",
   "execution_count": 25,
   "metadata": {},
   "outputs": [
    {
     "name": "stderr",
     "output_type": "stream",
     "text": [
      "/opt/conda/lib/python3.7/site-packages/sklearn/ensemble/_iforest.py:248: FutureWarning: 'behaviour' is deprecated in 0.22 and will be removed in 0.24. You should not pass or set this parameter.\n",
      "  FutureWarning\n"
     ]
    }
   ],
   "source": [
    "clf = IsolationForest(behaviour='new', n_estimators=1000, contamination=.1, bootstrap=False, n_jobs=-1)\n",
    "clf.fit(X)\n",
    "y_pred = clf.predict(X)"
   ]
  },
  {
   "cell_type": "markdown",
   "metadata": {},
   "source": [
    "Convert labels from -1, 1, to 1, 0. (1=anomalous, 0='normal')"
   ]
  },
  {
   "cell_type": "code",
   "execution_count": 26,
   "metadata": {},
   "outputs": [],
   "source": [
    "labels = []\n",
    "for i in y_pred:\n",
    "    if i == 1:\n",
    "        i = 0\n",
    "    if i == -1:\n",
    "        i = 1\n",
    "    labels.append(i)"
   ]
  },
  {
   "cell_type": "markdown",
   "metadata": {},
   "source": [
    "Adding the list of isoForest labels to our original dataframe"
   ]
  },
  {
   "cell_type": "code",
   "execution_count": 27,
   "metadata": {},
   "outputs": [
    {
     "data": {
      "text/html": [
       "<div>\n",
       "<style scoped>\n",
       "    .dataframe tbody tr th:only-of-type {\n",
       "        vertical-align: middle;\n",
       "    }\n",
       "\n",
       "    .dataframe tbody tr th {\n",
       "        vertical-align: top;\n",
       "    }\n",
       "\n",
       "    .dataframe thead th {\n",
       "        text-align: right;\n",
       "    }\n",
       "</style>\n",
       "<table border=\"1\" class=\"dataframe\">\n",
       "  <thead>\n",
       "    <tr style=\"text-align: right;\">\n",
       "      <th></th>\n",
       "      <th>Time</th>\n",
       "      <th>V1</th>\n",
       "      <th>V2</th>\n",
       "      <th>V3</th>\n",
       "      <th>V4</th>\n",
       "      <th>V5</th>\n",
       "      <th>V6</th>\n",
       "      <th>V7</th>\n",
       "      <th>V8</th>\n",
       "      <th>V9</th>\n",
       "      <th>...</th>\n",
       "      <th>V23</th>\n",
       "      <th>V24</th>\n",
       "      <th>V25</th>\n",
       "      <th>V26</th>\n",
       "      <th>V27</th>\n",
       "      <th>V28</th>\n",
       "      <th>Amount</th>\n",
       "      <th>Class</th>\n",
       "      <th>isoForest_labels</th>\n",
       "      <th>autoencoder_labels</th>\n",
       "    </tr>\n",
       "  </thead>\n",
       "  <tbody>\n",
       "    <tr>\n",
       "      <th>0</th>\n",
       "      <td>0.0</td>\n",
       "      <td>-1.359807</td>\n",
       "      <td>-0.072781</td>\n",
       "      <td>2.536347</td>\n",
       "      <td>1.378155</td>\n",
       "      <td>-0.338321</td>\n",
       "      <td>0.462388</td>\n",
       "      <td>0.239599</td>\n",
       "      <td>0.098698</td>\n",
       "      <td>0.363787</td>\n",
       "      <td>...</td>\n",
       "      <td>-0.110474</td>\n",
       "      <td>0.066928</td>\n",
       "      <td>0.128539</td>\n",
       "      <td>-0.189115</td>\n",
       "      <td>0.133558</td>\n",
       "      <td>-0.021053</td>\n",
       "      <td>149.62</td>\n",
       "      <td>0</td>\n",
       "      <td>0</td>\n",
       "      <td>0</td>\n",
       "    </tr>\n",
       "    <tr>\n",
       "      <th>1</th>\n",
       "      <td>0.0</td>\n",
       "      <td>1.191857</td>\n",
       "      <td>0.266151</td>\n",
       "      <td>0.166480</td>\n",
       "      <td>0.448154</td>\n",
       "      <td>0.060018</td>\n",
       "      <td>-0.082361</td>\n",
       "      <td>-0.078803</td>\n",
       "      <td>0.085102</td>\n",
       "      <td>-0.255425</td>\n",
       "      <td>...</td>\n",
       "      <td>0.101288</td>\n",
       "      <td>-0.339846</td>\n",
       "      <td>0.167170</td>\n",
       "      <td>0.125895</td>\n",
       "      <td>-0.008983</td>\n",
       "      <td>0.014724</td>\n",
       "      <td>2.69</td>\n",
       "      <td>0</td>\n",
       "      <td>0</td>\n",
       "      <td>0</td>\n",
       "    </tr>\n",
       "    <tr>\n",
       "      <th>2</th>\n",
       "      <td>1.0</td>\n",
       "      <td>-1.358354</td>\n",
       "      <td>-1.340163</td>\n",
       "      <td>1.773209</td>\n",
       "      <td>0.379780</td>\n",
       "      <td>-0.503198</td>\n",
       "      <td>1.800499</td>\n",
       "      <td>0.791461</td>\n",
       "      <td>0.247676</td>\n",
       "      <td>-1.514654</td>\n",
       "      <td>...</td>\n",
       "      <td>0.909412</td>\n",
       "      <td>-0.689281</td>\n",
       "      <td>-0.327642</td>\n",
       "      <td>-0.139097</td>\n",
       "      <td>-0.055353</td>\n",
       "      <td>-0.059752</td>\n",
       "      <td>378.66</td>\n",
       "      <td>0</td>\n",
       "      <td>1</td>\n",
       "      <td>1</td>\n",
       "    </tr>\n",
       "    <tr>\n",
       "      <th>3</th>\n",
       "      <td>1.0</td>\n",
       "      <td>-0.966272</td>\n",
       "      <td>-0.185226</td>\n",
       "      <td>1.792993</td>\n",
       "      <td>-0.863291</td>\n",
       "      <td>-0.010309</td>\n",
       "      <td>1.247203</td>\n",
       "      <td>0.237609</td>\n",
       "      <td>0.377436</td>\n",
       "      <td>-1.387024</td>\n",
       "      <td>...</td>\n",
       "      <td>-0.190321</td>\n",
       "      <td>-1.175575</td>\n",
       "      <td>0.647376</td>\n",
       "      <td>-0.221929</td>\n",
       "      <td>0.062723</td>\n",
       "      <td>0.061458</td>\n",
       "      <td>123.50</td>\n",
       "      <td>0</td>\n",
       "      <td>0</td>\n",
       "      <td>0</td>\n",
       "    </tr>\n",
       "    <tr>\n",
       "      <th>4</th>\n",
       "      <td>2.0</td>\n",
       "      <td>-1.158233</td>\n",
       "      <td>0.877737</td>\n",
       "      <td>1.548718</td>\n",
       "      <td>0.403034</td>\n",
       "      <td>-0.407193</td>\n",
       "      <td>0.095921</td>\n",
       "      <td>0.592941</td>\n",
       "      <td>-0.270533</td>\n",
       "      <td>0.817739</td>\n",
       "      <td>...</td>\n",
       "      <td>-0.137458</td>\n",
       "      <td>0.141267</td>\n",
       "      <td>-0.206010</td>\n",
       "      <td>0.502292</td>\n",
       "      <td>0.219422</td>\n",
       "      <td>0.215153</td>\n",
       "      <td>69.99</td>\n",
       "      <td>0</td>\n",
       "      <td>0</td>\n",
       "      <td>0</td>\n",
       "    </tr>\n",
       "  </tbody>\n",
       "</table>\n",
       "<p>5 rows × 33 columns</p>\n",
       "</div>"
      ],
      "text/plain": [
       "   Time        V1        V2        V3        V4        V5        V6        V7  \\\n",
       "0   0.0 -1.359807 -0.072781  2.536347  1.378155 -0.338321  0.462388  0.239599   \n",
       "1   0.0  1.191857  0.266151  0.166480  0.448154  0.060018 -0.082361 -0.078803   \n",
       "2   1.0 -1.358354 -1.340163  1.773209  0.379780 -0.503198  1.800499  0.791461   \n",
       "3   1.0 -0.966272 -0.185226  1.792993 -0.863291 -0.010309  1.247203  0.237609   \n",
       "4   2.0 -1.158233  0.877737  1.548718  0.403034 -0.407193  0.095921  0.592941   \n",
       "\n",
       "         V8        V9  ...       V23       V24       V25       V26       V27  \\\n",
       "0  0.098698  0.363787  ... -0.110474  0.066928  0.128539 -0.189115  0.133558   \n",
       "1  0.085102 -0.255425  ...  0.101288 -0.339846  0.167170  0.125895 -0.008983   \n",
       "2  0.247676 -1.514654  ...  0.909412 -0.689281 -0.327642 -0.139097 -0.055353   \n",
       "3  0.377436 -1.387024  ... -0.190321 -1.175575  0.647376 -0.221929  0.062723   \n",
       "4 -0.270533  0.817739  ... -0.137458  0.141267 -0.206010  0.502292  0.219422   \n",
       "\n",
       "        V28  Amount  Class  isoForest_labels  autoencoder_labels  \n",
       "0 -0.021053  149.62      0                 0                   0  \n",
       "1  0.014724    2.69      0                 0                   0  \n",
       "2 -0.059752  378.66      0                 1                   1  \n",
       "3  0.061458  123.50      0                 0                   0  \n",
       "4  0.215153   69.99      0                 0                   0  \n",
       "\n",
       "[5 rows x 33 columns]"
      ]
     },
     "execution_count": 27,
     "metadata": {},
     "output_type": "execute_result"
    }
   ],
   "source": [
    "dataset['isoForest_labels'] = labels\n",
    "dataset.head()"
   ]
  },
  {
   "cell_type": "markdown",
   "metadata": {},
   "source": [
    "How many anomalies did our isoForest detect?"
   ]
  },
  {
   "cell_type": "code",
   "execution_count": 41,
   "metadata": {},
   "outputs": [
    {
     "data": {
      "text/plain": [
       "0    256326\n",
       "1     28481\n",
       "Name: isoForest_labels, dtype: int64"
      ]
     },
     "execution_count": 41,
     "metadata": {},
     "output_type": "execute_result"
    }
   ],
   "source": [
    "isodata_counts = dataset['isoForest_labels'].value_counts()\n",
    "isodata_counts"
   ]
  },
  {
   "cell_type": "code",
   "execution_count": 29,
   "metadata": {},
   "outputs": [
    {
     "name": "stdout",
     "output_type": "stream",
     "text": [
      "Our unsupervised method detected 28481 anomalies compared to the actual number of 492.\n"
     ]
    }
   ],
   "source": [
    "print('Our unsupervised method detected ' + str(isodata_counts[1]) + ' anomalies compared to the actual number of 492.') "
   ]
  },
  {
   "cell_type": "code",
   "execution_count": 40,
   "metadata": {},
   "outputs": [
    {
     "data": {
      "text/plain": [
       "Text(1.2, 100000, '28481')"
      ]
     },
     "execution_count": 40,
     "metadata": {},
     "output_type": "execute_result"
    },
    {
     "data": {
      "image/png": "[encoded data removed]",
      "text/plain": [
       "<Figure size 432x288 with 1 Axes>"
      ]
     },
     "metadata": {
      "needs_background": "light"
     },
     "output_type": "display_data"
    }
   ],
   "source": [
    "bars = ('Normal', 'Fraudulent')\n",
    "y_pos = np.arange(2)\n",
    "\n",
    "sns.countplot('isoForest_labels', data=dataset)\n",
    "plt.title('IsoForest Labels Distribution')\n",
    "plt.xticks(y_pos, bars, horizontalalignment='center')\n",
    "plt.annotate(str(isodata_counts[1]), xy=(1,30000), xytext=(1.2, 100000), arrowprops=dict(arrowstyle=\"->\"))"
   ]
  },
  {
   "cell_type": "markdown",
   "metadata": {},
   "source": [
    "Are the actual anomalies (as labeled in our original dataset) even detected with the isoForest? Let's check by isolating only the fradulent instances. "
   ]
  },
  {
   "cell_type": "code",
   "execution_count": 31,
   "metadata": {},
   "outputs": [
    {
     "data": {
      "text/plain": [
       "1    439\n",
       "0     53\n",
       "Name: isoForest_labels, dtype: int64"
      ]
     },
     "execution_count": 31,
     "metadata": {},
     "output_type": "execute_result"
    }
   ],
   "source": [
    "fraud_data = dataset[dataset['Class'] == 1].reset_index()\n",
    "iso_forest_counts = fraud_data['isoForest_labels'].value_counts()\n",
    "iso_forest_counts"
   ]
  },
  {
   "cell_type": "code",
   "execution_count": 32,
   "metadata": {},
   "outputs": [
    {
     "data": {
      "text/html": [
       "<div>\n",
       "<style scoped>\n",
       "    .dataframe tbody tr th:only-of-type {\n",
       "        vertical-align: middle;\n",
       "    }\n",
       "\n",
       "    .dataframe tbody tr th {\n",
       "        vertical-align: top;\n",
       "    }\n",
       "\n",
       "    .dataframe thead th {\n",
       "        text-align: right;\n",
       "    }\n",
       "</style>\n",
       "<table border=\"1\" class=\"dataframe\">\n",
       "  <thead>\n",
       "    <tr style=\"text-align: right;\">\n",
       "      <th></th>\n",
       "      <th>index</th>\n",
       "      <th>Time</th>\n",
       "      <th>V1</th>\n",
       "      <th>V2</th>\n",
       "      <th>V3</th>\n",
       "      <th>V4</th>\n",
       "      <th>V5</th>\n",
       "      <th>V6</th>\n",
       "      <th>V7</th>\n",
       "      <th>V8</th>\n",
       "      <th>...</th>\n",
       "      <th>V23</th>\n",
       "      <th>V24</th>\n",
       "      <th>V25</th>\n",
       "      <th>V26</th>\n",
       "      <th>V27</th>\n",
       "      <th>V28</th>\n",
       "      <th>Amount</th>\n",
       "      <th>Class</th>\n",
       "      <th>isoForest_labels</th>\n",
       "      <th>autoencoder_labels</th>\n",
       "    </tr>\n",
       "  </thead>\n",
       "  <tbody>\n",
       "    <tr>\n",
       "      <th>0</th>\n",
       "      <td>541</td>\n",
       "      <td>406.0</td>\n",
       "      <td>-2.312227</td>\n",
       "      <td>1.951992</td>\n",
       "      <td>-1.609851</td>\n",
       "      <td>3.997906</td>\n",
       "      <td>-0.522188</td>\n",
       "      <td>-1.426545</td>\n",
       "      <td>-2.537387</td>\n",
       "      <td>1.391657</td>\n",
       "      <td>...</td>\n",
       "      <td>-0.465211</td>\n",
       "      <td>0.320198</td>\n",
       "      <td>0.044519</td>\n",
       "      <td>0.177840</td>\n",
       "      <td>0.261145</td>\n",
       "      <td>-0.143276</td>\n",
       "      <td>0.00</td>\n",
       "      <td>1</td>\n",
       "      <td>1</td>\n",
       "      <td>1</td>\n",
       "    </tr>\n",
       "    <tr>\n",
       "      <th>1</th>\n",
       "      <td>623</td>\n",
       "      <td>472.0</td>\n",
       "      <td>-3.043541</td>\n",
       "      <td>-3.157307</td>\n",
       "      <td>1.088463</td>\n",
       "      <td>2.288644</td>\n",
       "      <td>1.359805</td>\n",
       "      <td>-1.064823</td>\n",
       "      <td>0.325574</td>\n",
       "      <td>-0.067794</td>\n",
       "      <td>...</td>\n",
       "      <td>1.375966</td>\n",
       "      <td>-0.293803</td>\n",
       "      <td>0.279798</td>\n",
       "      <td>-0.145362</td>\n",
       "      <td>-0.252773</td>\n",
       "      <td>0.035764</td>\n",
       "      <td>529.00</td>\n",
       "      <td>1</td>\n",
       "      <td>1</td>\n",
       "      <td>1</td>\n",
       "    </tr>\n",
       "    <tr>\n",
       "      <th>2</th>\n",
       "      <td>4920</td>\n",
       "      <td>4462.0</td>\n",
       "      <td>-2.303350</td>\n",
       "      <td>1.759247</td>\n",
       "      <td>-0.359745</td>\n",
       "      <td>2.330243</td>\n",
       "      <td>-0.821628</td>\n",
       "      <td>-0.075788</td>\n",
       "      <td>0.562320</td>\n",
       "      <td>-0.399147</td>\n",
       "      <td>...</td>\n",
       "      <td>0.172726</td>\n",
       "      <td>-0.087330</td>\n",
       "      <td>-0.156114</td>\n",
       "      <td>-0.542628</td>\n",
       "      <td>0.039566</td>\n",
       "      <td>-0.153029</td>\n",
       "      <td>239.93</td>\n",
       "      <td>1</td>\n",
       "      <td>1</td>\n",
       "      <td>1</td>\n",
       "    </tr>\n",
       "    <tr>\n",
       "      <th>3</th>\n",
       "      <td>6108</td>\n",
       "      <td>6986.0</td>\n",
       "      <td>-4.397974</td>\n",
       "      <td>1.358367</td>\n",
       "      <td>-2.592844</td>\n",
       "      <td>2.679787</td>\n",
       "      <td>-1.128131</td>\n",
       "      <td>-1.706536</td>\n",
       "      <td>-3.496197</td>\n",
       "      <td>-0.248778</td>\n",
       "      <td>...</td>\n",
       "      <td>-0.436207</td>\n",
       "      <td>-0.053502</td>\n",
       "      <td>0.252405</td>\n",
       "      <td>-0.657488</td>\n",
       "      <td>-0.827136</td>\n",
       "      <td>0.849573</td>\n",
       "      <td>59.00</td>\n",
       "      <td>1</td>\n",
       "      <td>1</td>\n",
       "      <td>1</td>\n",
       "    </tr>\n",
       "    <tr>\n",
       "      <th>4</th>\n",
       "      <td>6329</td>\n",
       "      <td>7519.0</td>\n",
       "      <td>1.234235</td>\n",
       "      <td>3.019740</td>\n",
       "      <td>-4.304597</td>\n",
       "      <td>4.732795</td>\n",
       "      <td>3.624201</td>\n",
       "      <td>-1.357746</td>\n",
       "      <td>1.713445</td>\n",
       "      <td>-0.496358</td>\n",
       "      <td>...</td>\n",
       "      <td>-0.656805</td>\n",
       "      <td>-1.632653</td>\n",
       "      <td>1.488901</td>\n",
       "      <td>0.566797</td>\n",
       "      <td>-0.010016</td>\n",
       "      <td>0.146793</td>\n",
       "      <td>1.00</td>\n",
       "      <td>1</td>\n",
       "      <td>1</td>\n",
       "      <td>1</td>\n",
       "    </tr>\n",
       "  </tbody>\n",
       "</table>\n",
       "<p>5 rows × 34 columns</p>\n",
       "</div>"
      ],
      "text/plain": [
       "   index    Time        V1        V2        V3        V4        V5        V6  \\\n",
       "0    541   406.0 -2.312227  1.951992 -1.609851  3.997906 -0.522188 -1.426545   \n",
       "1    623   472.0 -3.043541 -3.157307  1.088463  2.288644  1.359805 -1.064823   \n",
       "2   4920  4462.0 -2.303350  1.759247 -0.359745  2.330243 -0.821628 -0.075788   \n",
       "3   6108  6986.0 -4.397974  1.358367 -2.592844  2.679787 -1.128131 -1.706536   \n",
       "4   6329  7519.0  1.234235  3.019740 -4.304597  4.732795  3.624201 -1.357746   \n",
       "\n",
       "         V7        V8  ...       V23       V24       V25       V26       V27  \\\n",
       "0 -2.537387  1.391657  ... -0.465211  0.320198  0.044519  0.177840  0.261145   \n",
       "1  0.325574 -0.067794  ...  1.375966 -0.293803  0.279798 -0.145362 -0.252773   \n",
       "2  0.562320 -0.399147  ...  0.172726 -0.087330 -0.156114 -0.542628  0.039566   \n",
       "3 -3.496197 -0.248778  ... -0.436207 -0.053502  0.252405 -0.657488 -0.827136   \n",
       "4  1.713445 -0.496358  ... -0.656805 -1.632653  1.488901  0.566797 -0.010016   \n",
       "\n",
       "        V28  Amount  Class  isoForest_labels  autoencoder_labels  \n",
       "0 -0.143276    0.00      1                 1                   1  \n",
       "1  0.035764  529.00      1                 1                   1  \n",
       "2 -0.153029  239.93      1                 1                   1  \n",
       "3  0.849573   59.00      1                 1                   1  \n",
       "4  0.146793    1.00      1                 1                   1  \n",
       "\n",
       "[5 rows x 34 columns]"
      ]
     },
     "execution_count": 32,
     "metadata": {},
     "output_type": "execute_result"
    }
   ],
   "source": [
    "fraud_data.head()"
   ]
  },
  {
   "cell_type": "code",
   "execution_count": 33,
   "metadata": {},
   "outputs": [
    {
     "name": "stdout",
     "output_type": "stream",
     "text": [
      "The isolation forest correctly identified 439 instances of fraud.\n",
      "Unfortunately, it incorrectly classified 53 fradulent instances as normal.\n",
      "Furthermore, the model incorrectly identified 27989 normal intstances as fraudulent.\n"
     ]
    }
   ],
   "source": [
    "print('The isolation forest correctly identified ' + str(iso_forest_counts[1]) + ' instances of fraud.')\n",
    "print('Unfortunately, it incorrectly classified ' + str(iso_forest_counts[0]) + ' fradulent instances as normal.')\n",
    "print('Furthermore, the model incorrectly identified ' + str(isodata_counts[1] - 492) + ' normal intstances as fraudulent.')"
   ]
  },
  {
   "cell_type": "markdown",
   "metadata": {},
   "source": [
    "For now it seems like the resources saved labeling the original dataset would be spent investigating the large number of false positives our isolation forest generated."
   ]
  },
  {
   "cell_type": "markdown",
   "metadata": {},
   "source": [
    "Overall, it's not advisable to have such a large dataset when using an isolation forest. Two issues arise when the dataset is too large. \n",
    "First, swamping occurs. Swamping happens when 'normal' instances encroach the feature space of the anomalous points. Too large a dataset will inevitably have points which encroach the anomalies' feature space. Secondly, masking occurs. Masking happens when too many anomalous points are present in the dataset and begin to 'mask' each other's presence. The sklearn implementation of the isoforest sets the cap of samples given to each tree within the forest at 256 to mitigate these two issues for us.  "
   ]
  },
  {
   "cell_type": "markdown",
   "metadata": {},
   "source": [
    "## Other Issues\n",
    "Isoforest is essentially detecting anomalous instances based on where they are in n dimensional 'feature space.' Credit card activity from a huge pool of users does not lend itself to this kind of algorithm because credit card activity between users is extremely diverse. This dataset could include personal cards, business cards, and travel cards, which all show different activity. A per-user isolation forest model would be much more effective because it would cater to the individual's card behavior. If this is too computationally expensive, models could be created for specific sub-groups. For example, different models for personal cards, business cards, and travel cards or models for users with specific credit limits could allow an isoforest to more effectively detect anomalies.   "
   ]
  },
  {
   "cell_type": "markdown",
   "metadata": {},
   "source": [
    "## Autoencoder\n",
    "A special type of neural network that copies the input and sets it as the network's desired output. An autoencoder can be broken down into two major steps. First, decoding occurs. Think of this as the neural network learning a simple representation of the data. More specifically, the decoding step mirros a dimensionality reduction step. The input is being compressed into easy to understand values. Second, the algorithm works to encode the simple data. In other words, we are now building our compressed values back up to recreate our input. Like with all neural networks, a loss function is calculated. This can be thought of as a reconstruction error which represents how effectively our network reproduced what we fed into it. Outliers will have greater reconstruction errors on average. Why? Intuitively, we know that outliers are 1) rare and 2) they are different. Because they are rare, the neural network is learning patterns from our 'normal' data and this is reflected in where the weights and biases of the neural network are set. In other words, the neural network has been trained to recreate 'normal' instances because those are the instances it saw most often. An outlier will exhibit different patterns and will not be recreated as effectively by the neural network, resulting in a greater reconstruction error. How anomalous an instance is, is directly related to the reconstruction error. "
   ]
  },
  {
   "cell_type": "code",
   "execution_count": 16,
   "metadata": {},
   "outputs": [],
   "source": [
    "X_train, X_test, y_train, y_test = train_test_split(X, y, test_size=.25)"
   ]
  },
  {
   "cell_type": "code",
   "execution_count": 17,
   "metadata": {},
   "outputs": [
    {
     "name": "stdout",
     "output_type": "stream",
     "text": [
      "Model: \"sequential_1\"\n",
      "_________________________________________________________________\n",
      "Layer (type)                 Output Shape              Param #   \n",
      "=================================================================\n",
      "dense_1 (Dense)              (None, 29)                870       \n",
      "_________________________________________________________________\n",
      "dropout_1 (Dropout)          (None, 29)                0         \n",
      "_________________________________________________________________\n",
      "dense_2 (Dense)              (None, 29)                870       \n",
      "_________________________________________________________________\n",
      "dropout_2 (Dropout)          (None, 29)                0         \n",
      "_________________________________________________________________\n",
      "dense_3 (Dense)              (None, 29)                870       \n",
      "_________________________________________________________________\n",
      "dropout_3 (Dropout)          (None, 29)                0         \n",
      "_________________________________________________________________\n",
      "dense_4 (Dense)              (None, 21)                630       \n",
      "_________________________________________________________________\n",
      "dropout_4 (Dropout)          (None, 21)                0         \n",
      "_________________________________________________________________\n",
      "dense_5 (Dense)              (None, 16)                352       \n",
      "_________________________________________________________________\n",
      "dropout_5 (Dropout)          (None, 16)                0         \n",
      "_________________________________________________________________\n",
      "dense_6 (Dense)              (None, 12)                204       \n",
      "_________________________________________________________________\n",
      "dropout_6 (Dropout)          (None, 12)                0         \n",
      "_________________________________________________________________\n",
      "dense_7 (Dense)              (None, 16)                208       \n",
      "_________________________________________________________________\n",
      "dropout_7 (Dropout)          (None, 16)                0         \n",
      "_________________________________________________________________\n",
      "dense_8 (Dense)              (None, 21)                357       \n",
      "_________________________________________________________________\n",
      "dropout_8 (Dropout)          (None, 21)                0         \n",
      "_________________________________________________________________\n",
      "dense_9 (Dense)              (None, 29)                638       \n",
      "_________________________________________________________________\n",
      "dropout_9 (Dropout)          (None, 29)                0         \n",
      "_________________________________________________________________\n",
      "dense_10 (Dense)             (None, 29)                870       \n",
      "=================================================================\n",
      "Total params: 5,869\n",
      "Trainable params: 5,869\n",
      "Non-trainable params: 0\n",
      "_________________________________________________________________\n",
      "None\n",
      "Train on 192244 samples, validate on 21361 samples\n",
      "Epoch 1/10\n",
      "192244/192244 [==============================] - 17s 86us/step - loss: 3.8222 - val_loss: 0.2620\n",
      "Epoch 2/10\n",
      "192244/192244 [==============================] - 16s 84us/step - loss: 0.1121 - val_loss: 0.0325\n",
      "Epoch 3/10\n",
      "192244/192244 [==============================] - 16s 81us/step - loss: 0.0252 - val_loss: 0.0099\n",
      "Epoch 4/10\n",
      "192244/192244 [==============================] - 16s 83us/step - loss: 0.0138 - val_loss: 0.0037\n",
      "Epoch 5/10\n",
      "192244/192244 [==============================] - 17s 87us/step - loss: 0.0093 - val_loss: 1.7205e-04\n",
      "Epoch 6/10\n",
      "192244/192244 [==============================] - 15s 79us/step - loss: 0.0068 - val_loss: -0.0021\n",
      "Epoch 7/10\n",
      "192244/192244 [==============================] - 18s 93us/step - loss: 0.0055 - val_loss: -0.0033\n",
      "Epoch 8/10\n",
      "192244/192244 [==============================] - 16s 81us/step - loss: 0.0047 - val_loss: -0.0041\n",
      "Epoch 9/10\n",
      "192244/192244 [==============================] - 16s 83us/step - loss: 0.0042 - val_loss: -0.0047\n",
      "Epoch 10/10\n",
      "192244/192244 [==============================] - 16s 81us/step - loss: 0.0038 - val_loss: -0.0051\n"
     ]
    }
   ],
   "source": [
    "clf_ae = AutoEncoder(hidden_neurons=[29, 21, 16, 12, 16, 21, 29], hidden_activation='relu', \n",
    "                     output_activation='sigmoid', loss=keras.losses.binary_crossentropy, \n",
    "                     epochs=10, contamination=.1)\n",
    "trained_ae = clf_ae.fit(X_train)"
   ]
  },
  {
   "cell_type": "markdown",
   "metadata": {},
   "source": [
    "Now that we've trained our autoencoder let's use the predict method to see which instances are anomalous."
   ]
  },
  {
   "cell_type": "code",
   "execution_count": 18,
   "metadata": {},
   "outputs": [
    {
     "data": {
      "text/plain": [
       "array([0, 0, 1, ..., 0, 0, 0])"
      ]
     },
     "execution_count": 18,
     "metadata": {},
     "output_type": "execute_result"
    }
   ],
   "source": [
    "ae_anomaly_labels = trained_ae.predict(X)\n",
    "ae_anomaly_labels"
   ]
  },
  {
   "cell_type": "markdown",
   "metadata": {},
   "source": [
    "Let's throw these onto our original dataset so we can compare our classifiers. "
   ]
  },
  {
   "cell_type": "code",
   "execution_count": 19,
   "metadata": {},
   "outputs": [
    {
     "data": {
      "text/html": [
       "<div>\n",
       "<style scoped>\n",
       "    .dataframe tbody tr th:only-of-type {\n",
       "        vertical-align: middle;\n",
       "    }\n",
       "\n",
       "    .dataframe tbody tr th {\n",
       "        vertical-align: top;\n",
       "    }\n",
       "\n",
       "    .dataframe thead th {\n",
       "        text-align: right;\n",
       "    }\n",
       "</style>\n",
       "<table border=\"1\" class=\"dataframe\">\n",
       "  <thead>\n",
       "    <tr style=\"text-align: right;\">\n",
       "      <th></th>\n",
       "      <th>Time</th>\n",
       "      <th>V1</th>\n",
       "      <th>V2</th>\n",
       "      <th>V3</th>\n",
       "      <th>V4</th>\n",
       "      <th>V5</th>\n",
       "      <th>V6</th>\n",
       "      <th>V7</th>\n",
       "      <th>V8</th>\n",
       "      <th>V9</th>\n",
       "      <th>...</th>\n",
       "      <th>V23</th>\n",
       "      <th>V24</th>\n",
       "      <th>V25</th>\n",
       "      <th>V26</th>\n",
       "      <th>V27</th>\n",
       "      <th>V28</th>\n",
       "      <th>Amount</th>\n",
       "      <th>Class</th>\n",
       "      <th>isoForest_labels</th>\n",
       "      <th>autoencoder_labels</th>\n",
       "    </tr>\n",
       "  </thead>\n",
       "  <tbody>\n",
       "    <tr>\n",
       "      <th>0</th>\n",
       "      <td>0.0</td>\n",
       "      <td>-1.359807</td>\n",
       "      <td>-0.072781</td>\n",
       "      <td>2.536347</td>\n",
       "      <td>1.378155</td>\n",
       "      <td>-0.338321</td>\n",
       "      <td>0.462388</td>\n",
       "      <td>0.239599</td>\n",
       "      <td>0.098698</td>\n",
       "      <td>0.363787</td>\n",
       "      <td>...</td>\n",
       "      <td>-0.110474</td>\n",
       "      <td>0.066928</td>\n",
       "      <td>0.128539</td>\n",
       "      <td>-0.189115</td>\n",
       "      <td>0.133558</td>\n",
       "      <td>-0.021053</td>\n",
       "      <td>149.62</td>\n",
       "      <td>0</td>\n",
       "      <td>0</td>\n",
       "      <td>0</td>\n",
       "    </tr>\n",
       "    <tr>\n",
       "      <th>1</th>\n",
       "      <td>0.0</td>\n",
       "      <td>1.191857</td>\n",
       "      <td>0.266151</td>\n",
       "      <td>0.166480</td>\n",
       "      <td>0.448154</td>\n",
       "      <td>0.060018</td>\n",
       "      <td>-0.082361</td>\n",
       "      <td>-0.078803</td>\n",
       "      <td>0.085102</td>\n",
       "      <td>-0.255425</td>\n",
       "      <td>...</td>\n",
       "      <td>0.101288</td>\n",
       "      <td>-0.339846</td>\n",
       "      <td>0.167170</td>\n",
       "      <td>0.125895</td>\n",
       "      <td>-0.008983</td>\n",
       "      <td>0.014724</td>\n",
       "      <td>2.69</td>\n",
       "      <td>0</td>\n",
       "      <td>0</td>\n",
       "      <td>0</td>\n",
       "    </tr>\n",
       "    <tr>\n",
       "      <th>2</th>\n",
       "      <td>1.0</td>\n",
       "      <td>-1.358354</td>\n",
       "      <td>-1.340163</td>\n",
       "      <td>1.773209</td>\n",
       "      <td>0.379780</td>\n",
       "      <td>-0.503198</td>\n",
       "      <td>1.800499</td>\n",
       "      <td>0.791461</td>\n",
       "      <td>0.247676</td>\n",
       "      <td>-1.514654</td>\n",
       "      <td>...</td>\n",
       "      <td>0.909412</td>\n",
       "      <td>-0.689281</td>\n",
       "      <td>-0.327642</td>\n",
       "      <td>-0.139097</td>\n",
       "      <td>-0.055353</td>\n",
       "      <td>-0.059752</td>\n",
       "      <td>378.66</td>\n",
       "      <td>0</td>\n",
       "      <td>0</td>\n",
       "      <td>1</td>\n",
       "    </tr>\n",
       "    <tr>\n",
       "      <th>3</th>\n",
       "      <td>1.0</td>\n",
       "      <td>-0.966272</td>\n",
       "      <td>-0.185226</td>\n",
       "      <td>1.792993</td>\n",
       "      <td>-0.863291</td>\n",
       "      <td>-0.010309</td>\n",
       "      <td>1.247203</td>\n",
       "      <td>0.237609</td>\n",
       "      <td>0.377436</td>\n",
       "      <td>-1.387024</td>\n",
       "      <td>...</td>\n",
       "      <td>-0.190321</td>\n",
       "      <td>-1.175575</td>\n",
       "      <td>0.647376</td>\n",
       "      <td>-0.221929</td>\n",
       "      <td>0.062723</td>\n",
       "      <td>0.061458</td>\n",
       "      <td>123.50</td>\n",
       "      <td>0</td>\n",
       "      <td>0</td>\n",
       "      <td>0</td>\n",
       "    </tr>\n",
       "    <tr>\n",
       "      <th>4</th>\n",
       "      <td>2.0</td>\n",
       "      <td>-1.158233</td>\n",
       "      <td>0.877737</td>\n",
       "      <td>1.548718</td>\n",
       "      <td>0.403034</td>\n",
       "      <td>-0.407193</td>\n",
       "      <td>0.095921</td>\n",
       "      <td>0.592941</td>\n",
       "      <td>-0.270533</td>\n",
       "      <td>0.817739</td>\n",
       "      <td>...</td>\n",
       "      <td>-0.137458</td>\n",
       "      <td>0.141267</td>\n",
       "      <td>-0.206010</td>\n",
       "      <td>0.502292</td>\n",
       "      <td>0.219422</td>\n",
       "      <td>0.215153</td>\n",
       "      <td>69.99</td>\n",
       "      <td>0</td>\n",
       "      <td>0</td>\n",
       "      <td>0</td>\n",
       "    </tr>\n",
       "  </tbody>\n",
       "</table>\n",
       "<p>5 rows × 33 columns</p>\n",
       "</div>"
      ],
      "text/plain": [
       "   Time        V1        V2        V3        V4        V5        V6        V7  \\\n",
       "0   0.0 -1.359807 -0.072781  2.536347  1.378155 -0.338321  0.462388  0.239599   \n",
       "1   0.0  1.191857  0.266151  0.166480  0.448154  0.060018 -0.082361 -0.078803   \n",
       "2   1.0 -1.358354 -1.340163  1.773209  0.379780 -0.503198  1.800499  0.791461   \n",
       "3   1.0 -0.966272 -0.185226  1.792993 -0.863291 -0.010309  1.247203  0.237609   \n",
       "4   2.0 -1.158233  0.877737  1.548718  0.403034 -0.407193  0.095921  0.592941   \n",
       "\n",
       "         V8        V9  ...       V23       V24       V25       V26       V27  \\\n",
       "0  0.098698  0.363787  ... -0.110474  0.066928  0.128539 -0.189115  0.133558   \n",
       "1  0.085102 -0.255425  ...  0.101288 -0.339846  0.167170  0.125895 -0.008983   \n",
       "2  0.247676 -1.514654  ...  0.909412 -0.689281 -0.327642 -0.139097 -0.055353   \n",
       "3  0.377436 -1.387024  ... -0.190321 -1.175575  0.647376 -0.221929  0.062723   \n",
       "4 -0.270533  0.817739  ... -0.137458  0.141267 -0.206010  0.502292  0.219422   \n",
       "\n",
       "        V28  Amount  Class  isoForest_labels  autoencoder_labels  \n",
       "0 -0.021053  149.62      0                 0                   0  \n",
       "1  0.014724    2.69      0                 0                   0  \n",
       "2 -0.059752  378.66      0                 0                   1  \n",
       "3  0.061458  123.50      0                 0                   0  \n",
       "4  0.215153   69.99      0                 0                   0  \n",
       "\n",
       "[5 rows x 33 columns]"
      ]
     },
     "execution_count": 19,
     "metadata": {},
     "output_type": "execute_result"
    }
   ],
   "source": [
    "dataset['autoencoder_labels'] = ae_anomaly_labels\n",
    "dataset.head()"
   ]
  },
  {
   "cell_type": "code",
   "execution_count": 44,
   "metadata": {},
   "outputs": [
    {
     "data": {
      "text/plain": [
       "0    256270\n",
       "1     28537\n",
       "Name: autoencoder_labels, dtype: int64"
      ]
     },
     "execution_count": 44,
     "metadata": {},
     "output_type": "execute_result"
    }
   ],
   "source": [
    "autoencoder_counts = dataset['autoencoder_labels'].value_counts()\n",
    "autoencoder_counts"
   ]
  },
  {
   "cell_type": "code",
   "execution_count": 45,
   "metadata": {},
   "outputs": [
    {
     "data": {
      "text/plain": [
       "Text(1.2, 100000, '28537')"
      ]
     },
     "execution_count": 45,
     "metadata": {},
     "output_type": "execute_result"
    },
    {
     "data": {
      "image/png": "[encoded data removed]",
      "text/plain": [
       "<Figure size 432x288 with 1 Axes>"
      ]
     },
     "metadata": {
      "needs_background": "light"
     },
     "output_type": "display_data"
    }
   ],
   "source": [
    "bars = ('Normal', 'Fraudulent')\n",
    "y_pos = np.arange(2)\n",
    "\n",
    "sns.countplot('autoencoder_labels', data=dataset)\n",
    "plt.title('AutoEncoder Labels Distribution')\n",
    "plt.xticks(y_pos, bars, horizontalalignment='center')\n",
    "plt.annotate(str(autoencoder_counts[1]), xy=(1,30000), xytext=(1.2, 100000), arrowprops=dict(arrowstyle=\"->\"))"
   ]
  },
  {
   "cell_type": "code",
   "execution_count": 46,
   "metadata": {},
   "outputs": [
    {
     "data": {
      "text/plain": [
       "1    445\n",
       "0     47\n",
       "Name: autoencoder_labels, dtype: int64"
      ]
     },
     "execution_count": 46,
     "metadata": {},
     "output_type": "execute_result"
    }
   ],
   "source": [
    "auto_encoder_fraud_counts = fraud_data['autoencoder_labels'].value_counts()\n",
    "auto_encoder_fraud_counts"
   ]
  },
  {
   "cell_type": "code",
   "execution_count": 48,
   "metadata": {},
   "outputs": [
    {
     "name": "stdout",
     "output_type": "stream",
     "text": [
      "The autoencoder correctly identified 445 instances of fraud.\n",
      "Unfortunately, it incorrectly classified 47 fradulent instances as normal.\n",
      "Furthermore, the model incorrectly identified 28045 normal intstances as fraudulent.\n"
     ]
    }
   ],
   "source": [
    "print('The autoencoder correctly identified ' + str(auto_encoder_fraud_counts[1]) + ' instances of fraud.')\n",
    "print('Unfortunately, it incorrectly classified ' + str(auto_encoder_fraud_counts[0]) + ' fradulent instances as normal.')\n",
    "print('Furthermore, the model incorrectly identified ' + str(autoencoder_counts[1] - 492) + ' normal intstances as fraudulent.')"
   ]
  }
 ],
 "metadata": {
  "kernelspec": {
   "display_name": "Python 3",
   "language": "python",
   "name": "python3"
  },
  "language_info": {
   "codemirror_mode": {
    "name": "ipython",
    "version": 3
   },
   "file_extension": ".py",
   "mimetype": "text/x-python",
   "name": "python",
   "nbconvert_exporter": "python",
   "pygments_lexer": "ipython3",
   "version": "3.7.3"
  }
 },
 "nbformat": 4,
 "nbformat_minor": 4
}
